{
 "cells": [
  {
   "cell_type": "code",
   "execution_count": 66,
   "metadata": {
    "collapsed": false
   },
   "outputs": [],
   "source": [
    "import random\n",
    "import json\n",
    "from pprint import pprint\n",
    "import nltk\n",
    "import re\n",
    "import string\n",
    "from nltk.tag.stanford import StanfordPOSTagger\n",
    "from nltk.tag.stanford import StanfordNERTagger\n",
    "from nltk.chunk import RegexpParser\n",
    "import nertclient"
   ]
  },
  {
   "cell_type": "markdown",
   "metadata": {},
   "source": [
    "### import Standford POS Tagger and Stanford NER Tagger"
   ]
  },
  {
   "cell_type": "code",
   "execution_count": 67,
   "metadata": {
    "collapsed": true
   },
   "outputs": [],
   "source": [
    "#to run StanfordPostTagger and NERTagger, \n",
    "#first download these two packages from http://nlp.stanford.edu/software/CRF-NER.shtml \n",
    "#I saved the downloaded files in lib/\n",
    "post = StanfordPOSTagger('lib/stanford-postagger-2014-08-27/models/english-bidirectional-distsim.tagger', \n",
    "                         'lib/stanford-postagger-2014-08-27/stanford-postagger.jar', 'utf-8') # doctest: +SKIP\n",
    "# post.tag('What is the airspeed of an unladen swallow ?'.split()) # doctest: +SKIP\n",
    "nert = StanfordNERTagger('lib/stanford-ner-2014-08-27/classifiers/english.all.3class.distsim.crf.ser.gz',\n",
    "                         'lib/stanford-ner-2014-08-27/stanford-ner.jar', 'utf-8')"
   ]
  },
  {
   "cell_type": "markdown",
   "metadata": {},
   "source": [
    "### make a random sample of 2 and smaple of 5 from the json data as starting data.\n",
    "Note: only run this code once. Currently commented out. "
   ]
  },
  {
   "cell_type": "code",
   "execution_count": 28,
   "metadata": {
    "collapsed": false
   },
   "outputs": [],
   "source": [
    "# with open('movies-with-roles-summaries.json')as data_file:\n",
    "#     data = json.load(data_file)\n",
    "\n",
    "# print(type(data))"
   ]
  },
  {
   "cell_type": "code",
   "execution_count": 29,
   "metadata": {
    "collapsed": false
   },
   "outputs": [],
   "source": [
    "# data_sample_2 = random.sample((data.items()), 2)"
   ]
  },
  {
   "cell_type": "code",
   "execution_count": 30,
   "metadata": {
    "collapsed": true
   },
   "outputs": [],
   "source": [
    "# data_sample_5 = random.sample((data.items()), 5)"
   ]
  },
  {
   "cell_type": "code",
   "execution_count": 31,
   "metadata": {
    "collapsed": false
   },
   "outputs": [],
   "source": [
    "# with open('data_sample_2.json', 'w') as outfile:\n",
    "#     json.dump(data_sample_2, outfile)"
   ]
  },
  {
   "cell_type": "code",
   "execution_count": 32,
   "metadata": {
    "collapsed": true
   },
   "outputs": [],
   "source": [
    "# with open('data_sample_5.json', 'w') as outfile:\n",
    "#     json.dump(data_sample_5, outfile)"
   ]
  },
  {
   "cell_type": "markdown",
   "metadata": {},
   "source": [
    "###Load in the sample of five"
   ]
  },
  {
   "cell_type": "code",
   "execution_count": 68,
   "metadata": {
    "collapsed": false
   },
   "outputs": [],
   "source": [
    "with open('data_sample_5.json') as sample:\n",
    "# with open('movies-with-roles-summaries.json') as sample:\n",
    "    sample = json.load(sample)"
   ]
  },
  {
   "cell_type": "markdown",
   "metadata": {},
   "source": [
    "###More data cleaning"
   ]
  },
  {
   "cell_type": "code",
   "execution_count": 69,
   "metadata": {
    "collapsed": false
   },
   "outputs": [],
   "source": [
    "# get rid of ([[ in the wikipidia summaries\n",
    "for movie in sample:\n",
    "    summaries_wiki = movie[1]['summaries_wikipedia']\n",
    "    if len(summaries_wiki) > 0:\n",
    "        summaries_wiki = re.sub(r'\\s\\(\\[\\[', ' ', summaries_wiki[0])\n",
    "        movie[1]['summaries_wikipedia'][0] = summaries_wiki"
   ]
  },
  {
   "cell_type": "code",
   "execution_count": 70,
   "metadata": {
    "collapsed": true
   },
   "outputs": [
    {
     "data": {
      "text/plain": [
       "['flirtation walk.1934',\n",
       " {'id': 34573,\n",
       "  'language': None,\n",
       "  'num_ratings': '388',\n",
       "  'ratings': '5.8',\n",
       "  'roles': [{'gender': 'F', 'role': 'Chorus Girl'},\n",
       "   {'gender': 'F', 'role': 'Chorus Girl'},\n",
       "   {'gender': 'F', 'role': 'Dowager at Show'},\n",
       "   {'gender': 'F', 'role': 'Redhead'},\n",
       "   {'gender': 'F', 'role': 'Chorus Girl'},\n",
       "   {'gender': 'F', 'role': \"'Kit' Fitts\"},\n",
       "   {'gender': 'F', 'role': 'Blonde'},\n",
       "   {'gender': 'F', 'role': 'Chorus Girl'},\n",
       "   {'gender': 'F', 'role': 'Girl'},\n",
       "   {'gender': 'F', 'role': 'Chorus Girl'},\n",
       "   {'gender': 'M', 'role': \"'Oskie'\"},\n",
       "   {'gender': 'M', 'role': \"'Spike'\"},\n",
       "   {'gender': 'M', 'role': 'Cadet'},\n",
       "   {'gender': 'M', 'role': \"'Eight Ball'\"},\n",
       "   {'gender': 'M', 'role': 'Native Leader'},\n",
       "   {'gender': 'M', 'role': 'Gen. Landacre'},\n",
       "   {'gender': 'M', 'role': 'Cadet'},\n",
       "   {'gender': 'M', 'role': 'Chase'},\n",
       "   {'gender': 'M', 'role': \"Fitts' Butler\"},\n",
       "   {'gender': 'M', 'role': 'Lieut. Biddle'},\n",
       "   {'gender': 'M', 'role': 'Bandleader'},\n",
       "   {'gender': 'M', 'role': 'Cadet'},\n",
       "   {'gender': 'M', 'role': 'Superintendent'},\n",
       "   {'gender': 'M', 'role': \"'Scrapper' Thornhhill\"},\n",
       "   {'gender': 'M', 'role': 'Gen. Fitts'},\n",
       "   {'gender': 'M', 'role': \"Dick 'Canary' Dorcy\"},\n",
       "   {'gender': 'M', 'role': 'Cadet'},\n",
       "   {'gender': 'M', 'role': \"'Sleepy'\"},\n",
       "   {'gender': 'M', 'role': 'Cadet'}],\n",
       "  'summaries_imdb': [\"A Musical-romance with Dick Powell as a private stationed in Hawaii who gets involved with Ruby Keeler, the general's engaged daughter. In order to avoid a scandal, the pair break up, but meet again years later when Powell's at West Point producing the annual play that turns out to star Keeler.\"],\n",
       "  'summaries_wikipedia': ['Richard Palmer Grant Dorcy, known as \"Canary,\"  is an enlisted man in the United States Army. Currently stationed on the Hawaiian Islands, he has an affectionately argumentative relationship with his sergeant, Scrapper Thornhill Pat O\\'Brien . Although he hates taking orders, Dick has no intention of becoming an officer. When General Fitts  arrives at the base with his daughter Kit , Dick is assigned to drive her to the reception that evening. Falling victim to the moonlit night, Kit and Dick miss the reception and attend a native luau instead. They are discovered in each other\\'s arms by Lieutenant Biddle John Eldredge , who is also in love with Kit. Biddle blames Dick for ruining Kit\\'s reputation and Dick decides to desert. Scrapper begs Kit to straighten things out with Biddle. To prevent Dick from deserting, Kit tells him that she is not in love with him, but was responding to a crazy impulse. Stung by her words, Dick decides to compete with Biddle as an equal and applies for West Point. He is accepted and does very well, to Scrapper\\'s delight. In Dick\\'s senior year, General Fitts is appointed West Point superintendent. While most of the men are infatuated with Kit, Dick is cold to her. Consequently, he is not very happy when the rest of the men insist that she participate in the traditional Hundredth Night theatrical performance. Dick writes a show about a female general with a message directed at Kit. After the first rehearsal, Kit walks with Dick on Flirtation Walk and tries to explain why she told him she was not in love with him. Dick is too angry to listen to Kit but, during their on-stage love scene, kisses her, and she admits she loves him. When General Fitts announces Kit\\'s engagement to Biddle, Dick naturally is confused, and visits her after lights out to talk her out of marrying Biddle. He is caught and, to protect Kit\\'s name, agrees to resign from the Academy. Scrapper arrives at the Academy to see Dick graduate and is disappointed to learn of Dick\\'s resignation. The day is saved when Biddle tells Dick that his resignation was not accepted and that Kit returned his ring. Dick graduates a happy man.'],\n",
       "  'title': 'Flirtation Walk',\n",
       "  'venue': 'T',\n",
       "  'version': 'I',\n",
       "  'year': '1934'}]"
      ]
     },
     "execution_count": 70,
     "metadata": {},
     "output_type": "execute_result"
    }
   ],
   "source": [
    "sample[3]\n"
   ]
  },
  {
   "cell_type": "markdown",
   "metadata": {},
   "source": [
    "###Tagging"
   ]
  },
  {
   "cell_type": "code",
   "execution_count": 71,
   "metadata": {
    "collapsed": true
   },
   "outputs": [],
   "source": [
    "#pos tagging using nltk.pos_tag\n",
    "#ner tagging using stanford ner tagger\n",
    "def ie_preprocess(document, lower='false', stage=\"pos\"):\n",
    "#     if stage == 'pos':\n",
    "#         sentences = nltk.sent_tokenize(document)\n",
    "#         sentences = [nltk.word_tokenize(sent) for sent in sentences]\n",
    "#         if lower == 'false':\n",
    "#             for sent in sentences:\n",
    "#                 for i in range(len(sent)):\n",
    "#                     if sent[i] != sent[i].lower():\n",
    "#                         sent[i] = sent[i].lower()\n",
    "#         sentences = [nltk.pos_tag(sent) for sent in sentences]\n",
    "#         return sentences\n",
    "    if stage == \"ner\":\n",
    "        return nert.tag(document.split())"
   ]
  },
  {
   "cell_type": "code",
   "execution_count": null,
   "metadata": {
    "collapsed": true
   },
   "outputs": [],
   "source": [
    "# make stanford nert more accurate by seperating the last word\n",
    "# in a sentence from the ending punctuation with a space.\n",
    "def insert_space_before_punct(s):\n",
    "    # return re.sub(r'([-\\/#!$%\\^&\\*;:{}=\\-_`~()])', r' \\1', s)\n",
    "    # s = re.sub(r'([-\\/#$%\\^&\\*{}=\\-_`~()])', r'', s)\n",
    "    s = re.sub(r'([.,!?;:])', r' \\1', s)\n",
    "    return s"
   ]
  },
  {
   "cell_type": "code",
   "execution_count": 72,
   "metadata": {
    "collapsed": false
   },
   "outputs": [],
   "source": [
    "# pos + ner tag summaries and roles\n",
    "for movie in sample:\n",
    "    summaries_imdb = movie[1][\"summaries_imdb\"]\n",
    "    summaries_wiki = movie[1]['summaries_wikipedia']\n",
    "    roles = movie[1]['roles']\n",
    "    if len(summaries_imdb) > 0:\n",
    "        # sample[i][1][\"summaries_imdb_pos\"] = ie_preprocess(summaries_imdb[0])\n",
    "        sample[i][1][\"summaries_imdb_ner\"] = ie_preprocess(insert_space_before_punct(summaries_imdb[0]), stage=\"ner\")\n",
    "        \n",
    "    if len(summaries_wiki) > 0:\n",
    "        # sample[i][1][\"summaries_wikipedia_pos\"] = ie_preprocess(summaries_wiki[0])\n",
    "        sample[i][1][\"summaries_wikipedia_ner\"] = ie_preprocess(insert_space_before_punct(summaries_wiki[0]), stage='ner')\n"
   ]
  },
  {
   "cell_type": "markdown",
   "metadata": {
    "collapsed": true
   },
   "source": [
    "###Search for a ner tagged name in the roles bag of words"
   ]
  },
  {
   "cell_type": "markdown",
   "metadata": {},
   "source": [
    "####First, combine wiki summaries and imdb summaries into one string. "
   ]
  },
  {
   "cell_type": "code",
   "execution_count": 73,
   "metadata": {
    "collapsed": false
   },
   "outputs": [],
   "source": [
    "# combine wiki_ner and imdb_ner\n",
    "for i in range(len(sample)):\n",
    "    combined = []\n",
    "    if 'summaries_wikipedia_ner' in sample[i][1]:\n",
    "        combined.extend( sample[i][1]['summaries_wikipedia_ner'] )\n",
    "    if 'summaries_imdb_ner' in sample[i][1]:\n",
    "        combined.extend(sample[i][1][\"summaries_imdb_ner\"])\n",
    "    sample[i][1]['summaries_combined_ner'] = combined\n",
    "\n",
    "\n",
    "# for movie in sample:\n",
    "# #     summaries_imdb_ner is indeed a list\n",
    "#     summaries_imdb_ner = movie[1][\"summaries_imdb_ner\"]\n",
    "#     if 'summaries_wikipedia_ner' in movie[1]:\n",
    "#         summaries_wiki_ner = movie[1]['summaries_wikipedia_ner']\n",
    "#     else: summaries_wiki_ner = []\n",
    "#     summaries_imdb_ner.extend(summaries_wiki_ner)\n",
    "#     movie[1]['summaries_combined_ner'] = summaries_imdb_ner"
   ]
  },
  {
   "cell_type": "markdown",
   "metadata": {},
   "source": [
    "####Run chuncker to lift out tagged names from summaries"
   ]
  },
  {
   "cell_type": "code",
   "execution_count": 74,
   "metadata": {
    "collapsed": true
   },
   "outputs": [],
   "source": [
    "# Define custom tagged entities - group NE's together \n",
    "def chunker_rules(values):\n",
    "    # Define  custom grammar (modified to be a valid regex).\n",
    "    grammar = r'''\n",
    "        PERSON:\n",
    "                {<PERSON>+}\n",
    "            '''\n",
    "    cp = nltk.RegexpParser(grammar) # Create an instance of your custom parser.\n",
    "    return cp.parse(values)         # Parse!\n",
    "\n",
    "def entity_chunker(tagged_docs):\n",
    "    chunks = []\n",
    "#     for doc in tagged_docs:\n",
    "    tree = chunker_rules(tagged_docs)\n",
    "    for subtree in tree.subtrees():\n",
    "#             if (subtree.node == 'WIDOW'):\n",
    "        leaflist = [leaf[0] for leaf in subtree.leaves()]\n",
    "        chunks.append(' '.join(leaflist))\n",
    "    return chunks"
   ]
  },
  {
   "cell_type": "code",
   "execution_count": 75,
   "metadata": {
    "collapsed": false
   },
   "outputs": [],
   "source": [
    "# creating a new dict called sum_and_char to store summaries and corresponding characters\n",
    "sum_and_char = {}\n",
    "for movie in sample:\n",
    "#     making a bag of words for roles\n",
    "    roles_bag = []\n",
    "    roles = movie[1]['roles']\n",
    "    for role in roles:\n",
    "        roles_bag.append(role['role'])\n",
    "    str = \" \".join(roles_bag)\n",
    "#     split roles on space, /, ' or \"\n",
    "    roles_bag = re.split(r' |/|\\'|\\\"', str)\n",
    "#     sorting entity_chuncking results into summaries and characters\n",
    "    result = entity_chunker(movie[1]['summaries_combined_ner'])\n",
    "    movie_name = movie[0]\n",
    "    if len(result) <= 1:\n",
    "        char_data = {}\n",
    "    else:\n",
    "        char_data = set(result[1:])\n",
    "    sum_and_char[movie_name] = {\"sum\": result[0], \\\n",
    "                                \"char_raw\": char_data,\\\n",
    "                                \"roles_bag\": set(roles_bag),\\\n",
    "                                \"char_info\" : {}}"
   ]
  },
  {
   "cell_type": "markdown",
   "metadata": {
    "collapsed": true
   },
   "source": [
    "###Filter character names, and establish the link between filtered character names from summaries and their counter parts in the roles list"
   ]
  },
  {
   "cell_type": "code",
   "execution_count": 77,
   "metadata": {
    "collapsed": false
   },
   "outputs": [],
   "source": [
    "for movie in sample:\n",
    "#     making a bag of words for roles\n",
    "    for role in movie[1]['roles']:\n",
    "        role_words = role['role']\n",
    "        role_bag = re.split(r' |/|\\'|\\\"', role_words)\n",
    "        role['role_bag'] = (set(role_bag))"
   ]
  },
  {
   "cell_type": "code",
   "execution_count": 78,
   "metadata": {
    "collapsed": false
   },
   "outputs": [
    {
     "name": "stdout",
     "output_type": "stream",
     "text": [
      "{'gender': 'F', 'role_bag': {'Vanessa'}, 'role': 'Vanessa'}\n",
      "{'gender': 'F', 'role_bag': {'Nelie'}, 'role': 'Nelie'}\n",
      "{'gender': 'F', 'role_bag': {'Kano'}, 'role': 'Kano'}\n",
      "{'gender': 'F', 'role_bag': {'Cora'}, 'role': 'Cora'}\n",
      "{'gender': 'F', 'role_bag': {'Bea'}, 'role': 'Bea'}\n",
      "{'gender': 'F', 'role_bag': {'Gaying'}, 'role': 'Gaying'}\n",
      "{'gender': 'F', 'role_bag': {'Adelina'}, 'role': 'Adelina'}\n",
      "{'gender': 'F', 'role_bag': {'Mother', 's', 'Vanessa'}, 'role': \"Vanessa's Mother\"}\n",
      "{'gender': 'F', 'role_bag': {'Virgie'}, 'role': 'Virgie'}\n",
      "{'gender': 'F', 'role_bag': {'Baby'}, 'role': 'Baby'}\n",
      "{'gender': 'F', 'role_bag': {'Marichu'}, 'role': 'Marichu'}\n",
      "{'gender': 'M', 'role_bag': {'Adelina', 's', 'Client'}, 'role': \"Adelina's Client\"}\n",
      "{'gender': 'M', 'role_bag': {'Manay', 'Sharon'}, 'role': 'Manay Sharon'}\n",
      "{'gender': 'M', 'role_bag': {'Recruiter'}, 'role': 'Recruiter'}\n",
      "{'gender': 'M', 'role_bag': {'Mall', 'couple'}, 'role': 'Mall couple'}\n",
      "{'gender': 'M', 'role_bag': {'Alex'}, 'role': 'Alex'}\n",
      "{'gender': 'M', 'role_bag': {'Pebrero'}, 'role': 'Pebrero'}\n",
      "{'gender': 'M', 'role_bag': {'Greggy', 'Williams'}, 'role': 'Greggy Williams'}\n",
      "{'gender': 'M', 'role_bag': {'s', 'Husband', 'Virgir'}, 'role': \"Virgir's Husband\"}\n",
      "{'gender': 'F', 'role_bag': {'Midwife'}, 'role': 'Midwife'}\n",
      "{'gender': 'F', 'role_bag': {'Angelica'}, 'role': 'Angelica'}\n",
      "{'gender': 'F', 'role_bag': {'Woman', 'Snobby'}, 'role': 'Snobby Woman'}\n",
      "{'gender': 'F', 'role_bag': {'Park', 'Lady', 'in'}, 'role': 'Lady in Park'}\n",
      "{'gender': 'F', 'role_bag': {'Nora'}, 'role': 'Nora'}\n",
      "{'gender': 'F', 'role_bag': {'girl', 'Beggar'}, 'role': 'Beggar girl'}\n",
      "{'gender': 'F', 'role_bag': {'Young', 'Angelica'}, 'role': 'Young Angelica'}\n",
      "{'gender': 'F', 'role_bag': {'Constance'}, 'role': 'Constance'}\n",
      "{'gender': 'F', 'role_bag': {'Montague', 'Anne'}, 'role': 'Anne Montague'}\n",
      "{'gender': 'F', 'role_bag': {'Older', 'Constance'}, 'role': 'Older Constance'}\n",
      "{'gender': 'F', 'role_bag': {'Spirit', 'Girl'}, 'role': 'Spirit Girl'}\n",
      "{'gender': 'M', 'role_bag': {'Unnamed', 'Scientist'}, 'role': 'Unnamed Scientist'}\n",
      "{'gender': 'M', 'role_bag': {'Unnamed', 'Scientist'}, 'role': 'Unnamed Scientist'}\n",
      "{'gender': 'M', 'role_bag': {'Student', 'Medical'}, 'role': 'Medical Student'}\n",
      "{'gender': 'M', 'role_bag': {'Mr.', 'Pendleton'}, 'role': 'Mr. Pendleton'}\n",
      "{'gender': 'M', 'role_bag': {'Spirit', 'Boy'}, 'role': 'Spirit Boy'}\n",
      "{'gender': 'M', 'role_bag': {'Unnamed', 'Scientist'}, 'role': 'Unnamed Scientist'}\n",
      "{'gender': 'M', 'role_bag': {'Bookseller'}, 'role': 'Bookseller'}\n",
      "{'gender': 'M', 'role_bag': {'Barton', 'Dr.', 'Joseph'}, 'role': 'Dr. Joseph Barton'}\n",
      "{'gender': 'F', 'role_bag': {'Clubgoer', 'DV8'}, 'role': 'DV8 Clubgoer'}\n",
      "{'gender': 'F', 'role_bag': {'Clubgoer', 'DV8'}, 'role': 'DV8 Clubgoer'}\n",
      "{'gender': 'F', 'role_bag': {'Dancer', 'Cheerleader'}, 'role': 'Cheerleader/Dancer'}\n",
      "{'gender': 'F', 'role_bag': {'Dancer', 'Cheerleader'}, 'role': 'Cheerleader/Dancer'}\n",
      "{'gender': 'F', 'role_bag': {'DV8', 'Waitress'}, 'role': 'DV8 Waitress'}\n",
      "{'gender': 'F', 'role_bag': {'Dancer', 'Cheerleader'}, 'role': 'Cheerleader/Dancer'}\n",
      "{'gender': 'F', 'role_bag': {'Churchgoer'}, 'role': 'Churchgoer'}\n",
      "{'gender': 'F', 'role_bag': {'Dancer', 'Cheerleader'}, 'role': 'Cheerleader/Dancer'}\n",
      "{'gender': 'F', 'role_bag': {'Go-Go', 'Dancer', 'Caged'}, 'role': 'Caged Go-Go Dancer'}\n",
      "{'gender': 'F', 'role_bag': {'Tech', 'Support', 'Advisor'}, 'role': 'Tech Support Advisor'}\n",
      "{'gender': 'F', 'role_bag': {'Actor', 'Play'}, 'role': 'Play Actor'}\n",
      "{'gender': 'F', 'role_bag': {'Dancer', 'Cheerleader'}, 'role': 'Cheerleader/Dancer'}\n",
      "{'gender': 'F', 'role_bag': {'The', 'Devil'}, 'role': 'The Devil'}\n",
      "{'gender': 'F', 'role_bag': {'Fly', 'Girl'}, 'role': 'Fly Girl'}\n",
      "{'gender': 'F', 'role_bag': {'Clubgoer', 'DV8'}, 'role': 'DV8 Clubgoer'}\n",
      "{'gender': 'F', 'role_bag': {'Dancer', 'Cheerleader'}, 'role': 'Cheerleader/Dancer'}\n",
      "{'gender': 'F', 'role_bag': {'Nicole', 'Alison'}, 'role': 'Alison/Nicole'}\n",
      "{'gender': 'F', 'role_bag': {'Clubgoer', 'DV8'}, 'role': 'DV8 Clubgoer'}\n",
      "{'gender': 'F', 'role_bag': {'Fly', 'Girl'}, 'role': 'Fly Girl'}\n",
      "{'gender': 'F', 'role_bag': {'Dancer', 'Cheerleader'}, 'role': 'Cheerleader/Dancer'}\n",
      "{'gender': 'F', 'role_bag': {'Dancer', 'Cheerleader'}, 'role': 'Cheerleader/Dancer'}\n",
      "{'gender': 'F', 'role_bag': {'Hostess', 'Penthouse', 'Carol'}, 'role': 'Carol/Penthouse Hostess'}\n",
      "{'gender': 'F', 'role_bag': {'Beer', 'Garden', 'Girl', 'at'}, 'role': 'Girl at Beer Garden'}\n",
      "{'gender': 'F', 'role_bag': {'Beer', 'Garden', 'Girl', 'at'}, 'role': 'Girl at Beer Garden'}\n",
      "{'gender': 'F', 'role_bag': {'Fly', 'Girl'}, 'role': 'Fly Girl'}\n",
      "{'gender': 'F', 'role_bag': {'Restaurant', 'Customer'}, 'role': 'Restaurant Customer'}\n",
      "{'gender': 'F', 'role_bag': {'Dancer', 'Cheerleader'}, 'role': 'Cheerleader/Dancer'}\n",
      "{'gender': 'F', 'role_bag': {'Tech', 'Support', 'Advisor'}, 'role': 'Tech Support Advisor'}\n",
      "{'gender': 'F', 'role_bag': {'Tech', 'Support', 'Advisor'}, 'role': 'Tech Support Advisor'}\n",
      "{'gender': 'F', 'role_bag': {'Waitress', 'Demonic'}, 'role': 'Demonic Waitress'}\n",
      "{'gender': 'F', 'role_bag': {'Dancer', 'Cheerleader'}, 'role': 'Cheerleader/Dancer'}\n",
      "{'gender': 'M', 'role_bag': {'Bob', 'Beach', 'Lincoln', 'Sportscaster', 'Roberto', 'Jock', 'Aide'}, 'role': 'Bob/Roberto/Beach Jock/Sportscaster/Lincoln Aide'}\n",
      "{'gender': 'M', 'role_bag': {'Tech', 'Support', 'Advisor'}, 'role': 'Tech Support Advisor'}\n",
      "{'gender': 'M', 'role_bag': {'s', 'McDonald', 'Employee'}, 'role': \"McDonald's Employee\"}\n",
      "{'gender': 'M', 'role_bag': {'Clubgoer', 'DV8'}, 'role': 'DV8 Clubgoer'}\n",
      "{'gender': 'M', 'role_bag': {'Prisoner'}, 'role': 'Prisoner'}\n",
      "{'gender': 'M', 'role_bag': {'s', 'Cellmate', 'Elliot'}, 'role': \"Elliot's Cellmate\"}\n",
      "{'gender': 'M', 'role_bag': {'Francisco', 'Pedestrian', 'San'}, 'role': 'San Francisco Pedestrian'}\n",
      "{'gender': 'M', 'role_bag': {'Tech', 'Support', 'Advisor'}, 'role': 'Tech Support Advisor'}\n",
      "{'gender': 'M', 'role_bag': {'Peter', 'Cornell,', '(II)'}, 'role': 'Cornell, Peter (II)'}\n",
      "{'gender': 'M', 'role_bag': {'Businessman', '#1'}, 'role': 'Businessman #1'}\n",
      "{'gender': 'M', 'role_bag': {'Desk', 'Sergeant'}, 'role': 'Desk Sergeant'}\n",
      "{'gender': 'M', 'role_bag': {'Priest'}, 'role': 'Priest'}\n",
      "{'gender': 'M', 'role_bag': {'Ivan', 'the', 'Russian'}, 'role': 'Ivan the Russian'}\n",
      "{'gender': 'M', 'role_bag': {'Booth', 'Wilkes', 'John'}, 'role': 'John Wilkes Booth'}\n",
      "{'gender': 'M', 'role_bag': {'Elliot'}, 'role': 'Elliot'}\n",
      "{'gender': 'M', 'role_bag': {'Park', 'in', 'Man'}, 'role': 'Man in Park'}\n",
      "{'gender': 'M', 'role_bag': {'Mover'}, 'role': 'Mover'}\n",
      "{'gender': 'M', 'role_bag': {'Actor', 'Play'}, 'role': 'Play Actor'}\n",
      "{'gender': 'M', 'role_bag': {'Pablito'}, 'role': 'Pablito'}\n",
      "{'gender': 'M', 'role_bag': {'Diablos', '#4', 'Fan'}, 'role': 'Diablos Fan #4'}\n",
      "{'gender': 'M', 'role_bag': {'Clubgoer', 'DV8'}, 'role': 'DV8 Clubgoer'}\n",
      "{'gender': 'M', 'role_bag': {'Diablos', '#3', 'Fan'}, 'role': 'Diablos Fan #3'}\n",
      "{'gender': 'M', 'role_bag': {'Jerry', 'Beach', 'Sportscaster', 'Jock', 'Lance', 'Alejandro'}, 'role': 'Jerry/Alejandro/Beach Jock/Sportscaster/Lance'}\n",
      "{'gender': 'M', 'role_bag': {'Player', 'NBA', '#10'}, 'role': 'NBA Player #10'}\n",
      "{'gender': 'M', 'role_bag': {'Party', 'Esteban', 'African', 'Beach', 'Sportscaster', 'Jock', 'Guest', 'Dan'}, 'role': 'Dan/Esteban/Beach Jock/Sportscaster/African Party Guest'}\n",
      "{'gender': 'M', 'role_bag': {'Patron', 'DV8', 'Club'}, 'role': 'Club DV8 Patron'}\n",
      "{'gender': 'M', 'role_bag': {'Supervisor', 'Synedyne'}, 'role': 'Synedyne Supervisor'}\n",
      "{'gender': 'M', 'role_bag': {'Eduardo'}, 'role': 'Eduardo'}\n",
      "{'gender': 'M', 'role_bag': {'Raoul'}, 'role': 'Raoul'}\n",
      "{'gender': 'M', 'role_bag': {'Bouncer', 'DV8'}, 'role': 'DV8 Bouncer'}\n",
      "{'gender': 'M', 'role_bag': {'Dealer', 'Russian', 'Drug'}, 'role': 'Russian Drug Dealer'}\n",
      "{'gender': 'M', 'role_bag': {'Dancer', 'DV8', 'Club'}, 'role': 'Club DV8 Dancer'}\n",
      "{'gender': 'M', 'role_bag': {'Fan', 'Raging'}, 'role': 'Raging Fan'}\n",
      "{'gender': 'M', 'role_bag': {'Office', 'worker'}, 'role': 'Office worker'}\n",
      "{'gender': 'M', 'role_bag': {'Actor', 'Play'}, 'role': 'Play Actor'}\n",
      "{'gender': 'M', 'role_bag': {'Extra'}, 'role': 'Extra'}\n",
      "{'gender': 'M', 'role_bag': {'Surfer'}, 'role': 'Surfer'}\n",
      "{'gender': 'M', 'role_bag': {'Dancer', 'Club'}, 'role': 'Club Dancer'}\n",
      "{'gender': 'M', 'role_bag': {'Player', 'NBA', '#30'}, 'role': 'NBA Player #30'}\n",
      "{'gender': 'M', 'role_bag': {'s', 'Lawyer', 'Devil'}, 'role': \"Devil's Lawyer\"}\n",
      "{'gender': 'M', 'role_bag': {'Actor', 'Play'}, 'role': 'Play Actor'}\n",
      "{'gender': 'M', 'role_bag': {'DV8', 'Club', 'Goth'}, 'role': 'Club DV8 Goth'}\n",
      "{'gender': 'M', 'role_bag': {'Usher'}, 'role': 'Usher'}\n",
      "{'gender': 'M', 'role_bag': {'Devil', 'Elegant'}, 'role': 'Elegant Devil'}\n",
      "{'gender': 'M', 'role_bag': {'Police', 'Officer'}, 'role': 'Police Officer'}\n",
      "{'gender': 'M', 'role_bag': {'Clubgoer', 'DV8'}, 'role': 'DV8 Clubgoer'}\n",
      "{'gender': 'M', 'role_bag': {'at', 'Patron', 'Cafe', 'Car', 'Crash', 'the'}, 'role': 'Cafe Patron at the Car Crash'}\n",
      "{'gender': 'M', 'role_bag': {'Factory', 'Foreman', 'Drug'}, 'role': 'Drug Factory Foreman'}\n",
      "{'gender': 'M', 'role_bag': {'Columbian', 'Soldier'}, 'role': 'Columbian Soldier'}\n",
      "{'gender': 'M', 'role_bag': {'Security', '(Rock', 'Guard', 'Fantasy)'}, 'role': 'Security Guard (Rock Fantasy)'}\n",
      "{'gender': 'M', 'role_bag': {'Biggest', 'Devil'}, 'role': 'Biggest Devil'}\n",
      "{'gender': 'F', 'role_bag': {'Chorus', 'Girl'}, 'role': 'Chorus Girl'}\n",
      "{'gender': 'F', 'role_bag': {'Chorus', 'Girl'}, 'role': 'Chorus Girl'}\n",
      "{'gender': 'F', 'role_bag': {'Dowager', 'Show', 'at'}, 'role': 'Dowager at Show'}\n",
      "{'gender': 'F', 'role_bag': {'Redhead'}, 'role': 'Redhead'}\n",
      "{'gender': 'F', 'role_bag': {'Chorus', 'Girl'}, 'role': 'Chorus Girl'}\n",
      "{'gender': 'F', 'role_bag': {'', 'Kit', 'Fitts'}, 'role': \"'Kit' Fitts\"}\n",
      "{'gender': 'F', 'role_bag': {'Blonde'}, 'role': 'Blonde'}\n",
      "{'gender': 'F', 'role_bag': {'Chorus', 'Girl'}, 'role': 'Chorus Girl'}\n",
      "{'gender': 'F', 'role_bag': {'Girl'}, 'role': 'Girl'}\n",
      "{'gender': 'F', 'role_bag': {'Chorus', 'Girl'}, 'role': 'Chorus Girl'}\n",
      "{'gender': 'M', 'role_bag': {'', 'Oskie'}, 'role': \"'Oskie'\"}\n",
      "{'gender': 'M', 'role_bag': {'', 'Spike'}, 'role': \"'Spike'\"}\n",
      "{'gender': 'M', 'role_bag': {'Cadet'}, 'role': 'Cadet'}\n",
      "{'gender': 'M', 'role_bag': {'', 'Ball', 'Eight'}, 'role': \"'Eight Ball'\"}\n",
      "{'gender': 'M', 'role_bag': {'Native', 'Leader'}, 'role': 'Native Leader'}\n",
      "{'gender': 'M', 'role_bag': {'Gen.', 'Landacre'}, 'role': 'Gen. Landacre'}\n",
      "{'gender': 'M', 'role_bag': {'Cadet'}, 'role': 'Cadet'}\n",
      "{'gender': 'M', 'role_bag': {'Chase'}, 'role': 'Chase'}\n",
      "{'gender': 'M', 'role_bag': {'', 'Butler', 'Fitts'}, 'role': \"Fitts' Butler\"}\n",
      "{'gender': 'M', 'role_bag': {'Lieut.', 'Biddle'}, 'role': 'Lieut. Biddle'}\n",
      "{'gender': 'M', 'role_bag': {'Bandleader'}, 'role': 'Bandleader'}\n",
      "{'gender': 'M', 'role_bag': {'Cadet'}, 'role': 'Cadet'}\n",
      "{'gender': 'M', 'role_bag': {'Superintendent'}, 'role': 'Superintendent'}\n",
      "{'gender': 'M', 'role_bag': {'', 'Thornhhill', 'Scrapper'}, 'role': \"'Scrapper' Thornhhill\"}\n",
      "{'gender': 'M', 'role_bag': {'Gen.', 'Fitts'}, 'role': 'Gen. Fitts'}\n",
      "{'gender': 'M', 'role_bag': {'', 'Dorcy', 'Dick', 'Canary'}, 'role': \"Dick 'Canary' Dorcy\"}\n",
      "{'gender': 'M', 'role_bag': {'Cadet'}, 'role': 'Cadet'}\n",
      "{'gender': 'M', 'role_bag': {'', 'Sleepy'}, 'role': \"'Sleepy'\"}\n",
      "{'gender': 'M', 'role_bag': {'Cadet'}, 'role': 'Cadet'}\n",
      "{'gender': 'F', 'role_bag': {'Mother'}, 'role': 'Mother'}\n",
      "{'gender': 'F', 'role_bag': {'Hui', 'Sun'}, 'role': 'Sun Hui'}\n",
      "{'gender': 'M', 'role_bag': {'Old', 'man'}, 'role': 'Old man'}\n",
      "{'gender': 'M', 'role_bag': {'Koppun'}, 'role': 'Koppun'}\n",
      "{'gender': 'M', 'role_bag': {'Chol', 'Yong'}, 'role': 'Chol Yong'}\n",
      "{'gender': 'M', 'role_bag': {'Landowner'}, 'role': 'Landowner'}\n"
     ]
    }
   ],
   "source": [
    "for movie in sample:\n",
    "    for role in movie[1]['roles']:\n",
    "        print(role)"
   ]
  },
  {
   "cell_type": "code",
   "execution_count": 79,
   "metadata": {
    "collapsed": false
   },
   "outputs": [
    {
     "name": "stdout",
     "output_type": "stream",
     "text": [
      "Satan discarded\n",
      "Ishmael Bernal discarded\n",
      "Mitchell discarded\n",
      "Richard Palmer Grant discarded\n"
     ]
    }
   ],
   "source": [
    "# filter char_raw against role list and link char_names with their names in the role list.\n",
    "''' \n",
    "match words in char_raw against roles in role list. If there is zero word match, discard. If there is at least one\n",
    "match, keep.\n",
    "\n",
    "char_info in sum_and_char use names in the role list as keys, and contains role gender, char names\n",
    "found in summaries, and roles found in summaries\n",
    "\n",
    "The matching selects the highest # of matches between a role and a character name. Ties are broken by selecting the role with\n",
    "the fewest words.\n",
    "'''\n",
    "for key, value in (sum_and_char.items()):\n",
    "    for movie in sample:\n",
    "#     locate correct movie\n",
    "        if movie[0] == key:\n",
    "#             for each filted char name\n",
    "            for name in value['char_raw']:\n",
    "                max_count = 0\n",
    "                max_role = None\n",
    "                max_gen = None\n",
    "#                 tie-breaker on # of words contained in a role_bag\n",
    "                max_role_bag_len = 0\n",
    "\n",
    "#                 tied_list = []\n",
    "                name_split = name.split()\n",
    "#                 for each role\n",
    "                for role in movie[1]['roles']:\n",
    "                    count = 0\n",
    "#                   for each word in char name\n",
    "#                   increment count by 1 every time a word in the char name appears in a role\n",
    "                    for word in name_split:\n",
    "                        if word in role['role_bag']:\n",
    "                            count += 1\n",
    "#                   select the role with the most counts!\n",
    "                    if (count > max_count) or (count == max_count and len(role['role_bag']) < max_role_bag_len):\n",
    "                        max_count = count\n",
    "                        max_role = role['role']\n",
    "                        max_gen = role['gender']\n",
    "                        max_role_bag_len = len(role['role_bag'])\n",
    "                \n",
    "#                 After looping through all roles in the role list, decide which is the max role\n",
    "                if max_count < 1:\n",
    "                    print(name, \"discarded\")\n",
    "                else:   \n",
    "                    if max_role not in value['char_info']:\n",
    "                        value['char_info'][max_role] = {'gender':max_gen, 'roles_found_in_sums':[], 'names_found_in_sums':[name]}\n",
    "                    else:\n",
    "                        value['char_info'][max_role]['names_found_in_sums'].append(name)"
   ]
  },
  {
   "cell_type": "markdown",
   "metadata": {},
   "source": [
    "###Output two dict (sample, and sum_and_char) as json files"
   ]
  },
  {
   "cell_type": "code",
   "execution_count": null,
   "metadata": {
    "collapsed": true
   },
   "outputs": [],
   "source": [
    "def set_default(obj):\n",
    "    if isinstance(obj, set):\n",
    "        d = {}\n",
    "        for i in obj:\n",
    "            d[i] = 1\n",
    "        return d\n",
    "        # return list(obj)\n",
    "    raise TypeError"
   ]
  },
  {
   "cell_type": "code",
   "execution_count": null,
   "metadata": {
    "collapsed": true
   },
   "outputs": [],
   "source": [
    "with open(filename + '.sample.json', 'w') as outfile:\n",
    "    json.dump(sample, outfile, ensure_ascii=False, default=set_default)\n",
    " "
   ]
  },
  {
   "cell_type": "code",
   "execution_count": null,
   "metadata": {
    "collapsed": true
   },
   "outputs": [],
   "source": []
  },
  {
   "cell_type": "code",
   "execution_count": null,
   "metadata": {
    "collapsed": true
   },
   "outputs": [],
   "source": []
  }
 ],
 "metadata": {
  "kernelspec": {
   "display_name": "Python 3",
   "language": "python",
   "name": "python3"
  },
  "language_info": {
   "codemirror_mode": {
    "name": "ipython",
    "version": 3
   },
   "file_extension": ".py",
   "mimetype": "text/x-python",
   "name": "python",
   "nbconvert_exporter": "python",
   "pygments_lexer": "ipython3",
   "version": "3.4.3"
  }
 },
 "nbformat": 4,
 "nbformat_minor": 0
}
